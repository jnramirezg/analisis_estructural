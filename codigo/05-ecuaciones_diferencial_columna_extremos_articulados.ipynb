{
  "nbformat": 4,
  "nbformat_minor": 0,
  "metadata": {
    "colab": {
      "provenance": []
    },
    "kernelspec": {
      "name": "python3",
      "display_name": "Python 3"
    },
    "language_info": {
      "name": "python"
    }
  },
  "cells": [
    {
      "cell_type": "code",
      "execution_count": null,
      "metadata": {
        "colab": {
          "base_uri": "https://localhost:8080/",
          "height": 58
        },
        "id": "xa8xO_iC8U5y",
        "outputId": "fa102d7d-91fc-4514-bcac-f25622651435"
      },
      "outputs": [
        {
          "output_type": "execute_result",
          "data": {
            "text/plain": [
              "-I*C1*sin(k*x) + C1*cos(k*x) + I*C2*sin(k*x) + C2*cos(k*x)"
            ],
            "text/latex": "$\\displaystyle - i C_{1} \\sin{\\left(k x \\right)} + C_{1} \\cos{\\left(k x \\right)} + i C_{2} \\sin{\\left(k x \\right)} + C_{2} \\cos{\\left(k x \\right)}$"
          },
          "metadata": {},
          "execution_count": 12
        }
      ],
      "source": [
        "from sympy import *\n",
        "\n",
        "# Definimos la variable simbólica y la función\n",
        "x = symbols('x')\n",
        "v = Function('v')(x)\n",
        "\n",
        "# Creamos la ecuación diferencial\n",
        "k = symbols('k')  # k es una constante\n",
        "ED = v.diff(x, 2) + k**2 * v - 0\n",
        "\n",
        "# Resolvemos la ecuación\n",
        "sol = dsolve(ED, v).rhs\n",
        "sol.rewrite(sin).expand()"
      ]
    }
  ]
}